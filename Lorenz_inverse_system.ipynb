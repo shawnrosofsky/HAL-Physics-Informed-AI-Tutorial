{
  "cells": [
    {
      "cell_type": "markdown",
      "metadata": {},
      "source": [
        "# Import Libraries"
      ]
    },
    {
      "cell_type": "code",
      "execution_count": null,
      "metadata": {
        "colab": {
          "base_uri": "https://localhost:8080/",
          "height": 102
        },
        "colab_type": "code",
        "id": "eyuhFn4fgkld",
        "outputId": "3ca31e87-1428-4e7e-ff46-347ac74431a7"
      },
      "outputs": [
        {
          "name": "stdout",
          "output_type": "stream",
          "text": [
            "Using TensorFlow 2 backend.\n",
            "\n",
            "WARNING:tensorflow:From /usr/local/lib/python3.6/dist-packages/tensorflow/python/compat/v2_compat.py:96: disable_resource_variables (from tensorflow.python.ops.variable_scope) is deprecated and will be removed in a future version.\n",
            "Instructions for updating:\n",
            "non-resource variables are not supported in the long term\n"
          ]
        }
      ],
      "source": [
        "from __future__ import absolute_import\n",
        "from __future__ import division\n",
        "from __future__ import print_function\n",
        "\n",
        "import io\n",
        "import re\n",
        "\n",
        "import matplotlib.pyplot as plt\n",
        "import numpy as np\n",
        "\n",
        "import deepxde as dde\n",
        "from deepxde.backend import tf\n",
        "\n",
        "from mpl_toolkits.mplot3d import Axes3D\n",
        "import sys\n",
        "from scipy.integrate import odeint\n"
      ]
    },
    {
      "cell_type": "markdown",
      "metadata": {},
      "source": [
        "# Generate Training Data"
      ]
    },
    {
      "cell_type": "code",
      "execution_count": null,
      "metadata": {},
      "outputs": [],
      "source": [
        "def gen_training_data(C1=10.0, C2=20.0, C3=8.0/3.0, x0=5, y0=8, z0=2, tend=3, dt=0.01, tskip=10):\n",
        "    # C1 = 10.0\n",
        "    # C2 = 20.0 #28.0\n",
        "    # C3 = 8.0 / 3.0\n",
        "    # x0 = 5\n",
        "    # y0 = 8\n",
        "    # z0 = 2\n",
        "    # tend = 3\n",
        "\n",
        "    def f(state, t):\n",
        "        x, y, z = state  # Unpack the state vector\n",
        "        return [C1 * (y - x),\n",
        "                x * (C2 - z) - y, \n",
        "                x * y - C3 * z]  # Derivatives\n",
        "\n",
        "    state0 = [x0, y0, z0]\n",
        "    t = np.arange(0.0, tend, dt)\n",
        "    states = odeint(f, state0, t)\n",
        "    t = np.reshape(t,(-1,1))\n",
        "    return t[::tskip], states[::tskip], state0, tend\n",
        "\n",
        "def plot_states(t, states):\n",
        "    # plt.close('all')\n",
        "    plt.figure()\n",
        "    ax = plt.axes(projection='3d')\n",
        "    ax.plot3D(states[:, 0], states[:, 1], states[:, 2])\n",
        "    plt.xlabel('x')\n",
        "    plt.ylabel('y')\n",
        "    ax.set_zlabel('z')\n",
        "    \n",
        "\n",
        "    plt.figure()\n",
        "    plt.plot(t[:,0],states[:,0],'b-',label='x')\n",
        "    plt.plot(t[:,0],states[:,1],'r-',label='y')\n",
        "    plt.plot(t[:,0],states[:,2],'y-',label='z')\n",
        "    plt.xlabel('time')\n",
        "    plt.ylabel('position')\n",
        "    plt.title('Lorentz System: Position vs Time')\n",
        "    plt.legend()\n",
        "    plt.show()\n"
      ]
    },
    {
      "cell_type": "code",
      "execution_count": null,
      "metadata": {},
      "outputs": [],
      "source": [
        "C1true = 10.0\n",
        "C2true = 20.0\n",
        "C3true = 8.0/3.0\n",
        "x0=5\n",
        "y0=8\n",
        "z0=2\n",
        "tend=3\n",
        "dt=0.01\n",
        "tskip=10\n",
        "observe_t, ob_y, y0, tend = gen_training_data(C1=C1true, C2=C2true, C3=C3true, x0=x0, y0=y0, z0=z0, tend=tend, dt=dt, tskip=tskip)\n",
        "plot_states(observe_t, ob_y)"
      ]
    },
    {
      "cell_type": "markdown",
      "metadata": {},
      "source": [
        "# Declare Variable Coefficients"
      ]
    },
    {
      "cell_type": "code",
      "execution_count": null,
      "metadata": {},
      "outputs": [],
      "source": [
        "\n",
        "# parameters to be identified\n",
        "C1 = tf.Variable(1.0)\n",
        "C2 = tf.Variable(1.0)\n",
        "C3 = tf.Variable(1.0)\n"
      ]
    },
    {
      "cell_type": "markdown",
      "metadata": {},
      "source": [
        "# Define the Governing PDE"
      ]
    },
    {
      "cell_type": "code",
      "execution_count": null,
      "metadata": {},
      "outputs": [],
      "source": [
        "\n",
        "# define system ODEs\n",
        "def Lorenz_system(x, y):\n",
        "    \"\"\"Lorenz system.\n",
        "    dy1/dx = 10 * (y2 - y1)\n",
        "    dy2/dx = y1 * (28 - y3) - y2\n",
        "    dy3/dx = y1 * y2 - 8/3 * y3\n",
        "    \"\"\"\n",
        "    y1, y2, y3 = y[:, 0:1], y[:, 1:2], y[:, 2:]\n",
        "    dy1_x = dde.grad.jacobian(y, x, i=0)\n",
        "    dy2_x = dde.grad.jacobian(y, x, i=1)\n",
        "    dy3_x = dde.grad.jacobian(y, x, i=2)\n",
        "    return [\n",
        "        dy1_x - C1 * (y2 - y1),\n",
        "        dy2_x - y1 * (C2 - y3) + y2,\n",
        "        dy3_x - y1 * y2 + C3 * y3,\n",
        "    ]\n",
        "\n"
      ]
    },
    {
      "cell_type": "markdown",
      "metadata": {},
      "source": [
        "# Define BC (no condition here)"
      ]
    },
    {
      "cell_type": "code",
      "execution_count": null,
      "metadata": {},
      "outputs": [],
      "source": []
    },
    {
      "cell_type": "markdown",
      "metadata": {
        "colab_type": "text",
        "id": "c8yTpgeIgpEa"
      },
      "source": [
        "# Define ICs/BCs and geometry"
      ]
    },
    {
      "cell_type": "code",
      "execution_count": null,
      "metadata": {
        "colab": {
          "base_uri": "https://localhost:8080/",
          "height": 295
        },
        "colab_type": "code",
        "id": "V5GUlQ_4goNr",
        "outputId": "04b9ae60-78cf-48b3-ebfe-7fe55964bf85"
      },
      "outputs": [
        {
          "data": {
            "image/png": "[encoded data removed]",
            "text/plain": [
              "<Figure size 432x288 with 1 Axes>"
            ]
          },
          "metadata": {
            "needs_background": "light",
            "tags": []
          },
          "output_type": "display_data"
        }
      ],
      "source": [
        "# define time domain\n",
        "def boundary(_, on_initial):\n",
        "    return on_initial\n",
        "\n",
        "\n",
        "geom = dde.geometry.TimeDomain(0, tend)\n",
        "\n",
        "# Initial conditions\n",
        "ic1 = dde.IC(geom, lambda X: y0[0], boundary, component=0)\n",
        "ic2 = dde.IC(geom, lambda X: y0[1], boundary, component=1)\n",
        "ic3 = dde.IC(geom, lambda X: y0[2], boundary, component=2)\n",
        "\n",
        "# Get extract the training data\n",
        "observe_y0 = dde.PointSetBC(observe_t, ob_y[:, 0:1], component=0)\n",
        "observe_y1 = dde.PointSetBC(observe_t, ob_y[:, 1:2], component=1)\n",
        "observe_y2 = dde.PointSetBC(observe_t, ob_y[:, 2:3], component=2)\n"
      ]
    },
    {
      "cell_type": "markdown",
      "metadata": {},
      "source": [
        "# Define Data Object"
      ]
    },
    {
      "cell_type": "code",
      "execution_count": null,
      "metadata": {},
      "outputs": [],
      "source": [
        "data = dde.data.PDE(\n",
        "    geom,\n",
        "    Lorenz_system,\n",
        "    [ic1, ic2, ic3, observe_y0, observe_y1, observe_y2],\n",
        "    num_domain=400,\n",
        "    num_boundary=2,\n",
        "    anchors=observe_t,\n",
        ")\n",
        "\n",
        "# plt.plot(observe_t, ob_y)\n",
        "# plt.xlabel('Time')\n",
        "# plt.legend(['x','y','z'])\n",
        "# plt.title('Training data')\n",
        "# plt.show()\n"
      ]
    },
    {
      "cell_type": "markdown",
      "metadata": {
        "colab_type": "text",
        "id": "qeuWXbSE4SZi"
      },
      "source": [
        "Train network"
      ]
    },
    {
      "cell_type": "code",
      "execution_count": 7,
      "metadata": {
        "colab": {
          "base_uri": "https://localhost:8080/",
          "height": 1000
        },
        "colab_type": "code",
        "id": "usZzo2ylv4UA",
        "outputId": "06061756-ab06-46a0-8c32-8f9205cc6507"
      },
      "outputs": [
        {
          "name": "stdout",
          "output_type": "stream",
          "text": [
            "Compiling model...\n",
            "Building feed-forward neural network...\n",
            "WARNING:tensorflow:From /usr/local/lib/python3.6/dist-packages/deepxde/maps/fnn.py:82: dense (from tensorflow.python.keras.legacy_tf_layers.core) is deprecated and will be removed in a future version.\n",
            "Instructions for updating:\n",
            "Use keras.layers.Dense instead.\n",
            "WARNING:tensorflow:From /usr/local/lib/python3.6/dist-packages/tensorflow/python/keras/legacy_tf_layers/core.py:187: Layer.apply (from tensorflow.python.keras.engine.base_layer_v1) is deprecated and will be removed in a future version.\n",
            "Instructions for updating:\n",
            "Please use `layer.__call__` method instead.\n",
            "'build' took 0.085865 s\n",
            "\n",
            "'compile' took 1.032210 s\n",
            "\n",
            "Initializing variables...\n",
            "Training model...\n",
            "\n",
            "Step      Train loss                                                                                    Test loss                                                                                     Test metric\n",
            "0         [1.44e+00, 2.34e+00, 1.16e-01, 6.40e+01, 4.90e+01, 7.29e+02, 3.81e+01, 3.28e+01, 2.81e+02]    [1.44e+00, 2.34e+00, 1.16e-01, 0.00e+00, 0.00e+00, 0.00e+00, 0.00e+00, 0.00e+00, 0.00e+00]    []  \n",
            "1000      [4.45e+00, 3.29e+00, 3.28e+00, 3.49e+01, 2.19e-02, 1.99e+00, 3.34e+01, 6.31e+00, 1.01e+01]    [4.45e+00, 3.29e+00, 3.28e+00, 0.00e+00, 0.00e+00, 0.00e+00, 0.00e+00, 0.00e+00, 0.00e+00]    []  \n",
            "2000      [9.64e+00, 1.88e+00, 1.18e+00, 1.67e+01, 2.80e-01, 1.44e+00, 3.23e+01, 1.47e+01, 4.30e+00]    [9.64e+00, 1.88e+00, 1.18e+00, 0.00e+00, 0.00e+00, 0.00e+00, 0.00e+00, 0.00e+00, 0.00e+00]    []  \n",
            "3000      [8.93e+00, 1.92e+00, 9.23e-01, 1.35e+01, 3.46e-01, 1.29e+00, 3.22e+01, 1.74e+01, 2.76e+00]    [8.93e+00, 1.92e+00, 9.23e-01, 0.00e+00, 0.00e+00, 0.00e+00, 0.00e+00, 0.00e+00, 0.00e+00]    []  \n",
            "4000      [8.53e+00, 2.01e+00, 7.73e-01, 1.14e+01, 3.53e-01, 1.18e+00, 3.19e+01, 1.87e+01, 2.10e+00]    [8.53e+00, 2.01e+00, 7.73e-01, 0.00e+00, 0.00e+00, 0.00e+00, 0.00e+00, 0.00e+00, 0.00e+00]    []  \n",
            "5000      [8.19e+00, 2.11e+00, 5.87e-01, 9.66e+00, 3.38e-01, 1.08e+00, 3.16e+01, 1.93e+01, 1.82e+00]    [8.19e+00, 2.11e+00, 5.87e-01, 0.00e+00, 0.00e+00, 0.00e+00, 0.00e+00, 0.00e+00, 0.00e+00]    []  \n",
            "6000      [7.72e+00, 2.27e+00, 4.31e-01, 7.77e+00, 3.26e-01, 9.86e-01, 3.11e+01, 2.00e+01, 1.71e+00]    [7.72e+00, 2.27e+00, 4.31e-01, 0.00e+00, 0.00e+00, 0.00e+00, 0.00e+00, 0.00e+00, 0.00e+00]    []  \n",
            "7000      [7.22e+00, 2.59e+00, 3.25e-01, 6.45e+00, 3.09e-01, 8.86e-01, 3.06e+01, 1.99e+01, 1.72e+00]    [7.22e+00, 2.59e+00, 3.25e-01, 0.00e+00, 0.00e+00, 0.00e+00, 0.00e+00, 0.00e+00, 0.00e+00]    []  \n",
            "8000      [6.23e+00, 3.48e+00, 2.81e-01, 5.17e+00, 3.00e-01, 7.48e-01, 2.88e+01, 1.97e+01, 2.19e+00]    [6.23e+00, 3.48e+00, 2.81e-01, 0.00e+00, 0.00e+00, 0.00e+00, 0.00e+00, 0.00e+00, 0.00e+00]    []  \n",
            "9000      [9.02e-01, 1.84e+00, 4.89e-01, 1.73e+00, 2.89e-01, 7.30e-02, 5.94e+00, 5.70e+00, 1.12e+01]    [9.02e-01, 1.84e+00, 4.89e-01, 0.00e+00, 0.00e+00, 0.00e+00, 0.00e+00, 0.00e+00, 0.00e+00]    []  \n",
            "10000     [3.80e-01, 8.15e-01, 3.17e-01, 8.11e-01, 1.11e-01, 5.69e-05, 2.53e+00, 2.40e+00, 7.56e+00]    [3.80e-01, 8.15e-01, 3.17e-01, 0.00e+00, 0.00e+00, 0.00e+00, 0.00e+00, 0.00e+00, 0.00e+00]    []  \n",
            "11000     [2.07e-01, 4.90e-01, 2.31e-01, 4.28e-01, 4.04e-02, 9.30e-03, 1.44e+00, 1.43e+00, 4.80e+00]    [2.07e-01, 4.90e-01, 2.31e-01, 0.00e+00, 0.00e+00, 0.00e+00, 0.00e+00, 0.00e+00, 0.00e+00]    []  \n",
            "12000     [1.38e-01, 3.28e-01, 1.68e-01, 2.33e-01, 2.33e-02, 1.21e-02, 9.82e-01, 1.00e+00, 2.87e+00]    [1.38e-01, 3.28e-01, 1.68e-01, 0.00e+00, 0.00e+00, 0.00e+00, 0.00e+00, 0.00e+00, 0.00e+00]    []  \n",
            "13000     [9.07e-02, 2.27e-01, 1.29e-01, 1.39e-01, 1.05e-02, 1.46e-02, 6.32e-01, 6.13e-01, 1.43e+00]    [9.07e-02, 2.27e-01, 1.29e-01, 0.00e+00, 0.00e+00, 0.00e+00, 0.00e+00, 0.00e+00, 0.00e+00]    []  \n",
            "14000     [6.17e-02, 1.64e-01, 1.06e-01, 7.34e-02, 5.01e-03, 1.04e-02, 4.08e-01, 3.85e-01, 6.91e-01]    [6.17e-02, 1.64e-01, 1.06e-01, 0.00e+00, 0.00e+00, 0.00e+00, 0.00e+00, 0.00e+00, 0.00e+00]    []  \n",
            "15000     [5.15e-02, 1.25e-01, 7.39e-02, 3.66e-02, 2.79e-03, 5.91e-03, 2.59e-01, 2.45e-01, 3.67e-01]    [5.15e-02, 1.25e-01, 7.39e-02, 0.00e+00, 0.00e+00, 0.00e+00, 0.00e+00, 0.00e+00, 0.00e+00]    []  \n",
            "16000     [3.83e-02, 1.04e-01, 5.25e-02, 1.61e-02, 1.48e-03, 2.80e-03, 1.47e-01, 1.37e-01, 1.99e-01]    [3.83e-02, 1.04e-01, 5.25e-02, 0.00e+00, 0.00e+00, 0.00e+00, 0.00e+00, 0.00e+00, 0.00e+00]    []  \n",
            "17000     [2.44e-02, 6.08e-02, 3.88e-02, 6.10e-03, 9.27e-04, 1.16e-03, 6.68e-02, 6.02e-02, 8.88e-02]    [2.44e-02, 6.08e-02, 3.88e-02, 0.00e+00, 0.00e+00, 0.00e+00, 0.00e+00, 0.00e+00, 0.00e+00]    []  \n",
            "18000     [2.14e-02, 3.89e-02, 2.13e-02, 2.05e-03, 5.62e-04, 4.54e-04, 2.85e-02, 2.59e-02, 3.89e-02]    [2.14e-02, 3.89e-02, 2.13e-02, 0.00e+00, 0.00e+00, 0.00e+00, 0.00e+00, 0.00e+00, 0.00e+00]    []  \n",
            "19000     [1.36e-02, 2.86e-02, 1.50e-02, 7.10e-04, 2.31e-04, 5.81e-05, 1.28e-02, 1.23e-02, 1.95e-02]    [1.36e-02, 2.86e-02, 1.50e-02, 0.00e+00, 0.00e+00, 0.00e+00, 0.00e+00, 0.00e+00, 0.00e+00]    []  \n",
            "20000     [1.17e-02, 2.35e-02, 1.31e-02, 3.05e-04, 2.08e-04, 3.56e-06, 6.54e-03, 6.68e-03, 1.13e-02]    [1.17e-02, 2.35e-02, 1.31e-02, 0.00e+00, 0.00e+00, 0.00e+00, 0.00e+00, 0.00e+00, 0.00e+00]    []  \n",
            "21000     [7.95e-03, 2.05e-02, 1.08e-02, 1.41e-04, 7.52e-05, 6.00e-06, 3.94e-03, 4.20e-03, 7.33e-03]    [7.95e-03, 2.05e-02, 1.08e-02, 0.00e+00, 0.00e+00, 0.00e+00, 0.00e+00, 0.00e+00, 0.00e+00]    []  \n",
            "22000     [6.56e-03, 1.80e-02, 9.78e-03, 3.29e-05, 4.60e-05, 5.79e-07, 2.68e-03, 2.82e-03, 5.09e-03]    [6.56e-03, 1.80e-02, 9.78e-03, 0.00e+00, 0.00e+00, 0.00e+00, 0.00e+00, 0.00e+00, 0.00e+00]    []  \n",
            "23000     [7.47e-03, 1.54e-02, 8.84e-03, 1.75e-05, 1.46e-05, 3.37e-06, 1.88e-03, 1.99e-03, 3.69e-03]    [7.47e-03, 1.54e-02, 8.84e-03, 0.00e+00, 0.00e+00, 0.00e+00, 0.00e+00, 0.00e+00, 0.00e+00]    []  \n",
            "24000     [4.90e-03, 1.28e-02, 6.92e-03, 3.00e-05, 3.11e-05, 3.39e-06, 1.33e-03, 1.46e-03, 2.79e-03]    [4.90e-03, 1.28e-02, 6.92e-03, 0.00e+00, 0.00e+00, 0.00e+00, 0.00e+00, 0.00e+00, 0.00e+00]    []  \n",
            "25000     [8.84e-03, 1.15e-02, 8.01e-03, 1.19e-06, 1.84e-06, 1.39e-06, 1.09e-03, 1.14e-03, 2.16e-03]    [8.84e-03, 1.15e-02, 8.01e-03, 0.00e+00, 0.00e+00, 0.00e+00, 0.00e+00, 0.00e+00, 0.00e+00]    []  \n",
            "26000     [3.87e-03, 9.42e-03, 5.26e-03, 1.46e-05, 2.17e-05, 1.15e-06, 7.95e-04, 8.70e-04, 1.70e-03]    [3.87e-03, 9.42e-03, 5.26e-03, 0.00e+00, 0.00e+00, 0.00e+00, 0.00e+00, 0.00e+00, 0.00e+00]    []  \n",
            "27000     [3.77e-03, 8.30e-03, 4.74e-03, 7.60e-06, 2.92e-05, 2.63e-08, 6.33e-04, 6.84e-04, 1.35e-03]    [3.77e-03, 8.30e-03, 4.74e-03, 0.00e+00, 0.00e+00, 0.00e+00, 0.00e+00, 0.00e+00, 0.00e+00]    []  \n",
            "28000     [5.31e-03, 8.45e-03, 6.00e-03, 1.02e-06, 4.96e-05, 1.26e-05, 5.29e-04, 5.53e-04, 1.10e-03]    [5.31e-03, 8.45e-03, 6.00e-03, 0.00e+00, 0.00e+00, 0.00e+00, 0.00e+00, 0.00e+00, 0.00e+00]    []  \n",
            "29000     [3.48e-03, 6.56e-03, 3.84e-03, 4.71e-06, 2.53e-05, 3.68e-07, 4.16e-04, 4.46e-04, 9.00e-04]    [3.48e-03, 6.56e-03, 3.84e-03, 0.00e+00, 0.00e+00, 0.00e+00, 0.00e+00, 0.00e+00, 0.00e+00]    []  \n",
            "30000     [2.85e-03, 5.81e-03, 3.38e-03, 3.13e-06, 1.64e-05, 1.98e-07, 3.42e-04, 3.69e-04, 7.46e-04]    [2.85e-03, 5.81e-03, 3.38e-03, 0.00e+00, 0.00e+00, 0.00e+00, 0.00e+00, 0.00e+00, 0.00e+00]    []  \n",
            "31000     [3.30e-03, 5.22e-03, 3.42e-03, 1.40e-05, 2.27e-05, 1.81e-07, 2.83e-04, 3.08e-04, 6.35e-04]    [3.30e-03, 5.22e-03, 3.42e-03, 0.00e+00, 0.00e+00, 0.00e+00, 0.00e+00, 0.00e+00, 0.00e+00]    []  \n",
            "32000     [8.02e-03, 6.55e-03, 1.15e-02, 8.61e-05, 4.28e-05, 7.30e-06, 2.77e-04, 2.70e-04, 5.89e-04]    [8.02e-03, 6.55e-03, 1.15e-02, 0.00e+00, 0.00e+00, 0.00e+00, 0.00e+00, 0.00e+00, 0.00e+00]    []  \n",
            "33000     [2.26e-02, 8.26e-03, 6.42e-03, 8.66e-05, 4.94e-05, 1.01e-04, 2.10e-04, 3.38e-04, 5.97e-04]    [2.26e-02, 8.26e-03, 6.42e-03, 0.00e+00, 0.00e+00, 0.00e+00, 0.00e+00, 0.00e+00, 0.00e+00]    []  \n",
            "34000     [2.23e-03, 4.02e-03, 2.29e-03, 2.80e-06, 3.67e-06, 1.59e-07, 1.79e-04, 1.96e-04, 3.96e-04]    [2.23e-03, 4.02e-03, 2.29e-03, 0.00e+00, 0.00e+00, 0.00e+00, 0.00e+00, 0.00e+00, 0.00e+00]    []  \n",
            "35000     [2.19e-03, 3.75e-03, 2.08e-03, 6.40e-06, 2.60e-06, 1.15e-06, 1.54e-04, 1.74e-04, 3.50e-04]    [2.19e-03, 3.75e-03, 2.08e-03, 0.00e+00, 0.00e+00, 0.00e+00, 0.00e+00, 0.00e+00, 0.00e+00]    []  \n",
            "36000     [5.34e-03, 5.76e-03, 5.58e-03, 2.60e-05, 4.20e-05, 3.89e-05, 1.59e-04, 1.65e-04, 3.49e-04]    [5.34e-03, 5.76e-03, 5.58e-03, 0.00e+00, 0.00e+00, 0.00e+00, 0.00e+00, 0.00e+00, 0.00e+00]    []  \n",
            "37000     [3.57e-02, 2.01e-02, 2.85e-02, 2.01e-04, 2.07e-04, 2.77e-04, 1.94e-04, 3.36e-04, 6.86e-04]    [3.57e-02, 2.01e-02, 2.85e-02, 0.00e+00, 0.00e+00, 0.00e+00, 0.00e+00, 0.00e+00, 0.00e+00]    []  \n",
            "38000     [1.77e-03, 3.05e-03, 1.67e-03, 1.85e-06, 2.57e-06, 2.10e-08, 1.07e-04, 1.19e-04, 2.36e-04]    [1.77e-03, 3.05e-03, 1.67e-03, 0.00e+00, 0.00e+00, 0.00e+00, 0.00e+00, 0.00e+00, 0.00e+00]    []  \n",
            "39000     [4.02e-03, 4.10e-03, 3.33e-03, 3.45e-05, 8.49e-07, 2.63e-05, 9.09e-05, 1.32e-04, 2.55e-04]    [4.02e-03, 4.10e-03, 3.33e-03, 0.00e+00, 0.00e+00, 0.00e+00, 0.00e+00, 0.00e+00, 0.00e+00]    []  \n",
            "40000     [1.68e-03, 2.79e-03, 1.59e-03, 1.53e-07, 8.14e-06, 1.20e-06, 8.77e-05, 9.43e-05, 1.90e-04]    [1.68e-03, 2.79e-03, 1.59e-03, 0.00e+00, 0.00e+00, 0.00e+00, 0.00e+00, 0.00e+00, 0.00e+00]    []  \n",
            "41000     [1.89e-03, 2.61e-03, 1.40e-03, 4.60e-06, 1.20e-07, 2.24e-06, 7.79e-05, 9.05e-05, 1.74e-04]    [1.89e-03, 2.61e-03, 1.40e-03, 0.00e+00, 0.00e+00, 0.00e+00, 0.00e+00, 0.00e+00, 0.00e+00]    []  \n",
            "42000     [4.83e-02, 5.48e-03, 1.75e-02, 2.48e-05, 1.27e-04, 2.81e-06, 3.14e-04, 1.32e-04, 1.81e-04]    [4.83e-02, 5.48e-03, 1.75e-02, 0.00e+00, 0.00e+00, 0.00e+00, 0.00e+00, 0.00e+00, 0.00e+00]    []  \n",
            "43000     [1.47e-03, 2.42e-03, 1.40e-03, 7.33e-06, 1.38e-06, 2.13e-06, 6.37e-05, 7.70e-05, 1.45e-04]    [1.47e-03, 2.42e-03, 1.40e-03, 0.00e+00, 0.00e+00, 0.00e+00, 0.00e+00, 0.00e+00, 0.00e+00]    []  \n",
            "44000     [1.63e-03, 2.40e-03, 1.40e-03, 5.10e-07, 1.17e-05, 3.51e-06, 6.28e-05, 6.74e-05, 1.31e-04]    [1.63e-03, 2.40e-03, 1.40e-03, 0.00e+00, 0.00e+00, 0.00e+00, 0.00e+00, 0.00e+00, 0.00e+00]    []  \n",
            "45000     [1.20e-03, 2.15e-03, 1.13e-03, 7.45e-07, 3.85e-06, 1.48e-07, 5.51e-05, 6.19e-05, 1.16e-04]    [1.20e-03, 2.15e-03, 1.13e-03, 0.00e+00, 0.00e+00, 0.00e+00, 0.00e+00, 0.00e+00, 0.00e+00]    []  \n",
            "46000     [1.57e-01, 2.80e-02, 2.63e-02, 1.16e-04, 6.47e-04, 4.20e-04, 2.56e-04, 6.07e-04, 8.38e-04]    [1.57e-01, 2.80e-02, 2.63e-02, 0.00e+00, 0.00e+00, 0.00e+00, 0.00e+00, 0.00e+00, 0.00e+00]    []  \n",
            "47000     [1.15e-03, 2.00e-03, 1.04e-03, 1.46e-06, 4.95e-06, 1.67e-07, 4.76e-05, 5.31e-05, 9.72e-05]    [1.15e-03, 2.00e-03, 1.04e-03, 0.00e+00, 0.00e+00, 0.00e+00, 0.00e+00, 0.00e+00, 0.00e+00]    []  \n",
            "48000     [1.09e-03, 1.93e-03, 1.11e-03, 3.96e-06, 3.43e-06, 1.91e-07, 4.59e-05, 5.21e-05, 9.21e-05]    [1.09e-03, 1.93e-03, 1.11e-03, 0.00e+00, 0.00e+00, 0.00e+00, 0.00e+00, 0.00e+00, 0.00e+00]    []  \n",
            "49000     [1.21e-03, 1.87e-03, 9.67e-04, 2.92e-06, 2.45e-07, 9.02e-07, 4.08e-05, 5.10e-05, 8.81e-05]    [1.21e-03, 1.87e-03, 9.67e-04, 0.00e+00, 0.00e+00, 0.00e+00, 0.00e+00, 0.00e+00, 0.00e+00]    []  \n",
            "50000     [9.29e-02, 3.07e-02, 4.06e-02, 3.08e-04, 4.94e-04, 5.24e-04, 1.47e-04, 5.01e-04, 8.50e-04]    [9.29e-02, 3.07e-02, 4.06e-02, 0.00e+00, 0.00e+00, 0.00e+00, 0.00e+00, 0.00e+00, 0.00e+00]    []  \n",
            "51000     [9.29e-04, 1.74e-03, 9.29e-04, 3.80e-07, 1.42e-06, 5.50e-08, 3.70e-05, 4.40e-05, 7.52e-05]    [9.29e-04, 1.74e-03, 9.29e-04, 0.00e+00, 0.00e+00, 0.00e+00, 0.00e+00, 0.00e+00, 0.00e+00]    []  \n",
            "52000     [4.40e-02, 1.68e-02, 2.26e-02, 2.33e-04, 1.61e-04, 2.77e-04, 5.44e-05, 3.26e-04, 5.10e-04]    [4.40e-02, 1.68e-02, 2.26e-02, 0.00e+00, 0.00e+00, 0.00e+00, 0.00e+00, 0.00e+00, 0.00e+00]    []  \n",
            "53000     [8.63e-03, 1.98e-03, 2.85e-03, 6.17e-07, 7.41e-05, 1.37e-05, 8.30e-05, 4.53e-05, 6.43e-05]    [8.63e-03, 1.98e-03, 2.85e-03, 0.00e+00, 0.00e+00, 0.00e+00, 0.00e+00, 0.00e+00, 0.00e+00]    []  \n",
            "54000     [1.20e-03, 1.64e-03, 1.21e-03, 5.22e-06, 7.89e-06, 3.86e-08, 3.90e-05, 3.90e-05, 6.26e-05]    [1.20e-03, 1.64e-03, 1.21e-03, 0.00e+00, 0.00e+00, 0.00e+00, 0.00e+00, 0.00e+00, 0.00e+00]    []  \n",
            "55000     [8.97e-04, 1.59e-03, 8.64e-04, 2.06e-08, 4.45e-06, 9.65e-07, 3.18e-05, 3.59e-05, 5.91e-05]    [8.97e-04, 1.59e-03, 8.64e-04, 0.00e+00, 0.00e+00, 0.00e+00, 0.00e+00, 0.00e+00, 0.00e+00]    []  \n",
            "56000     [8.40e-04, 1.55e-03, 8.60e-04, 4.99e-06, 5.60e-07, 1.50e-06, 2.93e-05, 3.78e-05, 5.84e-05]    [8.40e-04, 1.55e-03, 8.60e-04, 0.00e+00, 0.00e+00, 0.00e+00, 0.00e+00, 0.00e+00, 0.00e+00]    []  \n",
            "57000     [1.48e-02, 1.09e-02, 1.62e-02, 5.58e-04, 1.46e-04, 4.52e-04, 1.37e-04, 1.29e-04, 3.01e-04]    [1.48e-02, 1.09e-02, 1.62e-02, 0.00e+00, 0.00e+00, 0.00e+00, 0.00e+00, 0.00e+00, 0.00e+00]    []  \n",
            "58000     [1.17e-03, 1.48e-03, 8.34e-04, 1.04e-06, 3.82e-10, 1.13e-06, 2.58e-05, 3.47e-05, 5.29e-05]    [1.17e-03, 1.48e-03, 8.34e-04, 0.00e+00, 0.00e+00, 0.00e+00, 0.00e+00, 0.00e+00, 0.00e+00]    []  \n",
            "59000     [1.92e-03, 2.10e-03, 2.01e-03, 5.21e-06, 1.21e-05, 1.06e-05, 2.99e-05, 3.69e-05, 6.60e-05]    [1.92e-03, 2.10e-03, 2.01e-03, 0.00e+00, 0.00e+00, 0.00e+00, 0.00e+00, 0.00e+00, 0.00e+00]    []  \n",
            "60000     [9.29e-04, 1.40e-03, 7.73e-04, 1.56e-07, 1.15e-07, 1.58e-08, 2.40e-05, 3.26e-05, 4.74e-05]    [9.29e-04, 1.40e-03, 7.73e-04, 0.00e+00, 0.00e+00, 0.00e+00, 0.00e+00, 0.00e+00, 0.00e+00]    []  \n",
            "\n",
            "Best model at step 60000:\n",
            "  train loss: 3.21e-03\n",
            "  test loss: 3.11e-03\n",
            "  test metric: []\n",
            "\n",
            "'train' took 239.012404 s\n",
            "\n"
          ]
        }
      ],
      "source": [
        "# define FNN architecture and compile\n",
        "net = dde.maps.FNN([1] + [40] * 3 + [3], \"tanh\", \"Glorot uniform\")\n",
        "model = dde.Model(data, net)\n",
        "model.compile(\"adam\", lr=0.001)\n",
        "\n",
        "# callbacks for storing results\n",
        "fnamevar = \"variables.dat\"\n",
        "variable = dde.callbacks.VariableValue(\n",
        "    [C1, C2, C3], \n",
        "    period=1,\n",
        "    filename=fnamevar\n",
        ")\n",
        "\n",
        "losshistory, train_state = model.train(epochs=60000, callbacks=[variable])"
      ]
    },
    {
      "cell_type": "markdown",
      "metadata": {
        "colab_type": "text",
        "id": "eWm5PVlcCz9n"
      },
      "source": [
        " Plot identified parameters"
      ]
    },
    {
      "cell_type": "code",
      "execution_count": 8,
      "metadata": {
        "colab": {
          "base_uri": "https://localhost:8080/",
          "height": 279
        },
        "colab_type": "code",
        "id": "hyPBX9r_C0aE",
        "outputId": "a7fda507-497a-4ea1-b4d2-dee4489f31a2"
      },
      "outputs": [
        {
          "data": {
            "image/png": "[encoded data removed]",
            "text/plain": [
              "<Figure size 432x288 with 1 Axes>"
            ]
          },
          "metadata": {
            "needs_background": "light",
            "tags": []
          },
          "output_type": "display_data"
        }
      ],
      "source": [
        "# reopen saved data using callbacks in fnamevar \n",
        "lines = open(fnamevar, \"r\").readlines()\n",
        "\n",
        "# read output data in fnamevar (this line is a long story...)\n",
        "Chat = np.array([np.fromstring(min(re.findall(re.escape('[')+\"(.*?)\"+re.escape(']'),line), key=len), sep=',') for line in lines])\n",
        "\n",
        "l,c = Chat.shape\n",
        "\n",
        "plt.plot(range(l),Chat[:,0],'r-')\n",
        "plt.plot(range(l),Chat[:,1],'k-')\n",
        "plt.plot(range(l),Chat[:,2],'g-')\n",
        "plt.plot(range(l),np.ones(Chat[:,0].shape)*C1true,'r--')\n",
        "plt.plot(range(l),np.ones(Chat[:,1].shape)*C2true,'k--')\n",
        "plt.plot(range(l),np.ones(Chat[:,2].shape)*C3true,'g--')\n",
        "plt.legend(['C1hat','C2hat','C3hat','True C1','True C2','True C3'],loc = \"right\")\n",
        "plt.xlabel('Epoch')\n",
        "plt.show()"
      ]
    },
    {
      "cell_type": "code",
      "execution_count": 9,
      "metadata": {
        "colab": {
          "base_uri": "https://localhost:8080/",
          "height": 346
        },
        "colab_type": "code",
        "id": "2l75q3hu7SSi",
        "outputId": "289bdd39-19f6-4281-f8e7-dd99a05460a4"
      },
      "outputs": [
        {
          "name": "stdout",
          "output_type": "stream",
          "text": [
            "Predicting...\n",
            "'predict' took 0.018274 s\n",
            "\n"
          ]
        },
        {
          "data": {
            "image/png": "[encoded data removed]",
            "text/plain": [
              "<Figure size 432x288 with 1 Axes>"
            ]
          },
          "metadata": {
            "needs_background": "light",
            "tags": []
          },
          "output_type": "display_data"
        }
      ],
      "source": [
        "yhat = model.predict(observe_t)\n",
        "\n",
        "plt.plot(observe_t, ob_y,'-',observe_t, yhat,'--')\n",
        "plt.xlabel('Time')\n",
        "plt.legend(['x','y','z','xh','yh','zh'])\n",
        "plt.title('Training data')\n",
        "plt.show()"
      ]
    }
  ],
  "metadata": {
    "colab": {
      "collapsed_sections": [],
      "include_colab_link": true,
      "name": "Lorenz_inverse_Colab.ipynb",
      "provenance": []
    },
    "kernelspec": {
      "display_name": "Python 3",
      "name": "python3"
    },
    "language_info": {
      "name": "python",
      "version": "3.8.5"
    },
    "orig_nbformat": 2
  },
  "nbformat": 4,
  "nbformat_minor": 0
}
